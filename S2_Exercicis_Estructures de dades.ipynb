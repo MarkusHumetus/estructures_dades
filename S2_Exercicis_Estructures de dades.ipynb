{
 "cells": [
  {
   "cell_type": "markdown",
   "id": "62636968",
   "metadata": {},
   "source": [
    "**Exercici 1\n",
    ":**  \n",
    "Crea una llista que agrupi els mesos de l’any en trimestres (1T: Gener, Febrer i Març, 2T: Abril, Maig, Juny...), és a dir, una llista amb 4 llistes dins."
   ]
  },
  {
   "cell_type": "code",
   "execution_count": 3,
   "id": "f1507723",
   "metadata": {},
   "outputs": [],
   "source": [
    "trimestre1=['Gener', 'Febrer', 'Març']\n",
    "trimestre2=['Abril', 'Maig', 'Juny']\n",
    "trimestre3=['Juliol', 'Agost', 'Setembre']\n",
    "trimestre4=['Octubre', 'Novembre', 'Desembre']\n",
    "any=[trimestre1,trimestre2,trimestre3,trimestre4]"
   ]
  },
  {
   "cell_type": "markdown",
   "id": "a88a4019",
   "metadata": {},
   "source": [
    "**Exercici 2\n",
    ":**\n",
    "Crea un codi que et permeti accedir a:\n",
    "\n",
    "   + El segon mes del primer trimestre\n",
    "   + Els mesos del primer trimestre\n",
    "   + Setembre i octubre"
   ]
  },
  {
   "cell_type": "code",
   "execution_count": 10,
   "id": "c71ab05b",
   "metadata": {},
   "outputs": [
    {
     "name": "stdout",
     "output_type": "stream",
     "text": [
      "Febrer\n"
     ]
    }
   ],
   "source": [
    "print(any[0][1])"
   ]
  },
  {
   "cell_type": "code",
   "execution_count": 16,
   "id": "c47850de",
   "metadata": {},
   "outputs": [
    {
     "name": "stdout",
     "output_type": "stream",
     "text": [
      "['Gener', 'Febrer', 'Març']\n",
      "Gener\n",
      "Febrer\n",
      "Març\n"
     ]
    }
   ],
   "source": [
    "print(any[0])\n",
    "for i in any[0]:\n",
    "    print (i)"
   ]
  },
  {
   "cell_type": "code",
   "execution_count": 12,
   "id": "c1e85206",
   "metadata": {},
   "outputs": [
    {
     "name": "stdout",
     "output_type": "stream",
     "text": [
      "Setembre\n",
      "Octubre\n"
     ]
    }
   ],
   "source": [
    "print(any[2][2])\n",
    "print (any[3][0])\n",
    "\n",
    "#O bé: print (any[2][-1]+'\\n'+any[-1][0])"
   ]
  },
  {
   "cell_type": "markdown",
   "id": "2fa9429e",
   "metadata": {},
   "source": [
    "**Exercici 3\n",
    "3:**\n",
    "Crea una llista amb nombres desordenats i respon a les següents preguntes:\n",
    "* Quants números hi ha?\n",
    "* Quantes vegades apareix el número 3\n",
    "* Quantes vegades apareixen els nombres 3 i 4?\n",
    "* Quin és el número més gran?\n",
    "* Quins són els 3 números més petits?\n",
    "* Quin és el rang d’aquesta llista?"
   ]
  },
  {
   "cell_type": "code",
   "execution_count": 25,
   "id": "76ed9b20",
   "metadata": {},
   "outputs": [],
   "source": [
    "nombres=[12,23,45,4,6,7,3,2,5,7,8,8,9,3,5,6,7,4,4,9]"
   ]
  },
  {
   "cell_type": "code",
   "execution_count": 26,
   "id": "04bd2907",
   "metadata": {},
   "outputs": [
    {
     "name": "stdout",
     "output_type": "stream",
     "text": [
      "A la llista hi ha 20 números\n"
     ]
    }
   ],
   "source": [
    "print(f'A la llista hi ha {len(nombres)} números')"
   ]
  },
  {
   "cell_type": "code",
   "execution_count": 27,
   "id": "9747c13f",
   "metadata": {},
   "outputs": [
    {
     "name": "stdout",
     "output_type": "stream",
     "text": [
      "A la llista hi ha 2 vegades el número 3 i 3 vegades el número 4.\n"
     ]
    }
   ],
   "source": [
    "print(f'A la llista hi ha {nombres.count(3)} vegades el número 3 i {nombres.count(4)} vegades el número 4.')"
   ]
  },
  {
   "cell_type": "code",
   "execution_count": 40,
   "id": "90a31ba6",
   "metadata": {},
   "outputs": [
    {
     "name": "stdout",
     "output_type": "stream",
     "text": [
      "El número més gran de la llista és el 45.\n"
     ]
    }
   ],
   "source": [
    "nombres.sort(reverse=True)\n",
    "print (f'El número més gran de la llista és el {nombres[0]}.')"
   ]
  },
  {
   "cell_type": "code",
   "execution_count": 43,
   "id": "5a670642",
   "metadata": {},
   "outputs": [
    {
     "name": "stdout",
     "output_type": "stream",
     "text": [
      "Els tres números més petits de la llista són [3, 3, 2].\n"
     ]
    }
   ],
   "source": [
    "print (f'Els tres números més petits de la llista són {nombres[-3:]}.')"
   ]
  },
  {
   "cell_type": "code",
   "execution_count": 46,
   "id": "54e31ebc",
   "metadata": {},
   "outputs": [
    {
     "name": "stdout",
     "output_type": "stream",
     "text": [
      "El rang de la llista \"nombres\" és 43.\n"
     ]
    }
   ],
   "source": [
    "print(f'El rang de la llista \"nombres\" és {nombres[0]-nombres[-1]}.')"
   ]
  },
  {
   "cell_type": "markdown",
   "id": "4ad31c40",
   "metadata": {},
   "source": [
    "**Exercici \n",
    "4:**\n",
    "Crea un diccionari de la següent forma i respon a les preguntes:\n",
    "\n",
    "compra = { \"Pomes\" : {\"Qty\": 5, \"€\": 0.42}, \"Peres\" : {\"Qty\": 3, \"€\": 0.66} }\n",
    "\n",
    "* Afegeix alguna fruita més\n",
    "* Quant han costat les peres en total?\n",
    "* Quantes fruites hem comprat en total?\n",
    "* Quina és la fruita més cara?"
   ]
  },
  {
   "cell_type": "code",
   "execution_count": 1,
   "id": "2015bcab",
   "metadata": {},
   "outputs": [],
   "source": [
    "compra = { \"Pomes\" : {\"Qty\": 5, \"€\": 0.42}, \"Peres\" : {\"Qty\": 3, \"€\": 0.66} }"
   ]
  },
  {
   "cell_type": "code",
   "execution_count": 19,
   "id": "dd728041",
   "metadata": {},
   "outputs": [
    {
     "data": {
      "text/plain": [
       "{'Pomes': {'Qty': 5, '€': 0.42},\n",
       " 'Peres': {'Qty': 3, '€': 0.66},\n",
       " 'Kiwis': {'Qty': 7, '€': 1.02}}"
      ]
     },
     "execution_count": 19,
     "metadata": {},
     "output_type": "execute_result"
    }
   ],
   "source": [
    "compra[\"Kiwis\"]={\"Qty\": 7, \"€\": 1.02}\n",
    "compra"
   ]
  },
  {
   "cell_type": "code",
   "execution_count": 16,
   "id": "11af8dd9",
   "metadata": {},
   "outputs": [
    {
     "name": "stdout",
     "output_type": "stream",
     "text": [
      "Les peres han costat 1.98 €.\n"
     ]
    }
   ],
   "source": [
    "print(f'Les peres han costat {compra[\"Peres\"][\"Qty\"]*compra[\"Peres\"][\"€\"]} €.')"
   ]
  },
  {
   "cell_type": "code",
   "execution_count": 30,
   "id": "14ed5b89",
   "metadata": {},
   "outputs": [
    {
     "name": "stdout",
     "output_type": "stream",
     "text": [
      "El nombre de peces de fruita comprades és de 15.\n"
     ]
    }
   ],
   "source": [
    "factura=list(compra.values())\n",
    "i,totalFruit=0,0\n",
    "while i < len(factura):\n",
    "    totalFruit+=factura[i]['Qty']\n",
    "    i+=1\n",
    "print (f'El nombre de peces de fruita comprades és de {totalFruit}.')"
   ]
  },
  {
   "cell_type": "code",
   "execution_count": 31,
   "id": "c37f8e2a",
   "metadata": {},
   "outputs": [
    {
     "name": "stdout",
     "output_type": "stream",
     "text": [
      "Kiwis és la fruita més cara de la compra.\n"
     ]
    }
   ],
   "source": [
    "factura=tuple(compra.values())\n",
    "fruitList=tuple(compra.keys())\n",
    "i,totalFruit=0,0\n",
    "while i < (len(factura)-1):\n",
    "    if factura[i+1]['€']>factura[i]['€']:\n",
    "        fruitaCara=i+1\n",
    "    else:\n",
    "        fruitaCara=i\n",
    "    i+=1\n",
    "print (f'{fruitList[fruitaCara]} és la fruita més cara de la compra.')"
   ]
  },
  {
   "cell_type": "code",
   "execution_count": null,
   "id": "54898779",
   "metadata": {},
   "outputs": [],
   "source": []
  }
 ],
 "metadata": {
  "kernelspec": {
   "display_name": "Python 3 (ipykernel)",
   "language": "python",
   "name": "python3"
  },
  "language_info": {
   "codemirror_mode": {
    "name": "ipython",
    "version": 3
   },
   "file_extension": ".py",
   "mimetype": "text/x-python",
   "name": "python",
   "nbconvert_exporter": "python",
   "pygments_lexer": "ipython3",
   "version": "3.9.7"
  }
 },
 "nbformat": 4,
 "nbformat_minor": 5
}
